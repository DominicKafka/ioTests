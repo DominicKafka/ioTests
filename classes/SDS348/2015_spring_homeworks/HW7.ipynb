{
 "metadata": {
  "name": "",
  "signature": "sha256:a92954b6f6f19781c1b08dcab4d516a58f193738ca6720a20ee8a76061c1916e"
 },
 "nbformat": 3,
 "nbformat_minor": 0,
 "worksheets": [
  {
   "cells": [
    {
     "cell_type": "heading",
     "level": 1,
     "metadata": {},
     "source": [
      "Homework 7"
     ]
    },
    {
     "cell_type": "markdown",
     "metadata": {},
     "source": [
      "*Enter your name and EID here*"
     ]
    },
    {
     "cell_type": "markdown",
     "metadata": {},
     "source": [
      "**This homework is due on March 24, 2015 by 12:30 pm.** Please turn in the compiled HTML (converted to PDF) via Canvas. <br><br>"
     ]
    },
    {
     "cell_type": "markdown",
     "metadata": {},
     "source": [
      "**Question 1 (5 points):** Create a list which contains 10 items, some of which are numbers (both integers and floats) and some of which are strings. Write a for loop which iterates over this list, adds up all of the numbers in the list, tracks how many items in the list are actually numeric. Your code should not produce any errors. Hint - when solving this question, these functions may be useful: type(), len(), and sum().\n",
      "\n",
      "\n",
      "Your code should print a statement that reads, \"Of the ten items in this list, A are numbers and B are strings. The numbers in the list sum to X and have a mean of Y.\" (where A, B, X, and Y have been properly replaced).\n"
     ]
    },
    {
     "cell_type": "code",
     "collapsed": false,
     "input": [
      "# Answer for question 1 goes here."
     ],
     "language": "python",
     "metadata": {},
     "outputs": [],
     "prompt_number": 1
    },
    {
     "cell_type": "markdown",
     "metadata": {},
     "source": [
      "**Question 2 (5 points):** Create a string (20-30 letters) called dna_string which contains some combination of the letters A, C, G, and T. From this string, create a dictionary called nucleotide_counts which has nucleotides as keys and the number of occurrences of the respective nucleotide as values. Use the string method count() as part of your solution."
     ]
    },
    {
     "cell_type": "code",
     "collapsed": false,
     "input": [
      "# Answer for question 2 goes here."
     ],
     "language": "python",
     "metadata": {},
     "outputs": [],
     "prompt_number": 2
    }
   ],
   "metadata": {}
  }
 ]
}