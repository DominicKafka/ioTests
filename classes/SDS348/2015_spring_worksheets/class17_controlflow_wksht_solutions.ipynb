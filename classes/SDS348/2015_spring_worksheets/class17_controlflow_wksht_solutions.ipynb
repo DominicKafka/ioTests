{
 "metadata": {
  "name": "",
  "signature": "sha256:f94f1c0a545a6b09d8f96f4b4b0b04388c9d04f220150398cbfb9837c286ea0b"
 },
 "nbformat": 3,
 "nbformat_minor": 0,
 "worksheets": [
  {
   "cells": [
    {
     "cell_type": "markdown",
     "metadata": {},
     "source": [
      "# Class 17: Python control flow\n",
      "<br><br>"
     ]
    },
    {
     "cell_type": "markdown",
     "metadata": {},
     "source": [
      "## If statements"
     ]
    },
    {
     "cell_type": "markdown",
     "metadata": {},
     "source": [
      "**Question 1.**\n",
      "Write an if/elif.../else construct to determine the type of the variable **`a`**, defined below. \n",
      "\n",
      "Your code should evaluate if the variable is one of the following types: integer (int), float (float), string (str), or list (list). Your code should print a sentence stating the variable type (e.g. \"89.44 is a float\")."
     ]
    },
    {
     "cell_type": "code",
     "collapsed": false,
     "input": [
      "a = 89.44\n",
      "\n",
      "if type(a) is int:\n",
      "    print a, \"is an integer.\"\n",
      "elif type(a) is float:\n",
      "    print a, \"is a float.\"\n",
      "elif type(a) is list:\n",
      "    print a, \"is a list.\"\n",
      "elif type(a) is str:\n",
      "    print a, \"is a list.\""
     ],
     "language": "python",
     "metadata": {},
     "outputs": [
      {
       "output_type": "stream",
       "stream": "stdout",
       "text": [
        "89.44 is a float.\n"
       ]
      }
     ],
     "prompt_number": 21
    },
    {
     "cell_type": "markdown",
     "metadata": {},
     "source": [
      "<br>\n",
      "**Question 2.** \n",
      "  \n",
      "  a) Define a numeric variable (either float or integer is ok). Use an *if/else* statement to determine if the number is greater than zero. Your code should print a sentence indicating if the number is greater than zero or not.\n",
      "  \n",
      "  b) Modify your if/else statement to write an *if/elif/else* statement to determine if the number is greater than, less than, or equal to zero. Again, print a sentence indicating the number's value relative to 0."
     ]
    },
    {
     "cell_type": "code",
     "collapsed": false,
     "input": [
      "# if/else statement\n",
      "b = 926\n",
      "if b > 0:\n",
      "    print b, \"is greater than 0.\"\n",
      "else:\n",
      "    print b, \"is not greater than 0.\"\n",
      "\n",
      "# if/elif/else statement\n",
      "if b > 0:\n",
      "    print b, \"is greater than 0.\"\n",
      "elif b < 0:\n",
      "    print b, \"is less than 0.\"\n",
      "else:\n",
      "    print b, \"is equal to 0.\""
     ],
     "language": "python",
     "metadata": {},
     "outputs": [
      {
       "output_type": "stream",
       "stream": "stdout",
       "text": [
        "926 is greater than 0.\n",
        "926 is greater than 0.\n"
       ]
      }
     ],
     "prompt_number": 22
    },
    {
     "cell_type": "markdown",
     "metadata": {},
     "source": [
      "<br>\n",
      "**Question 3.**\n",
      "\n",
      "  a) Write an if/else statement to test the single condition, whether the length of the list **`b`** (defined below) is less than or equal to 10. If this condition is *true*, use indexing to create a new list called **`new_b`** that contains the first three numbers in **`b`**.\n",
      "  If this condition is *false*, use indexing to create a new list called **`new_b`** that contains the first 7 numbers in the list.\n",
      "  Once **`new_b`** is defined, determine and print its sum (hint: use the function `sum()`).\n",
      " \n",
      "  b) Use an if/else statement to determine if the sum is even or odd. Print your result. (Hint: use the modulus operator `%` to test even vs. odd.)"
     ]
    },
    {
     "cell_type": "code",
     "collapsed": false,
     "input": [
      "b = [19, 3, 2, 88, 56, 57, 11, 19, 9, 95]\n",
      "\n",
      "# Create new_b list based on length of b\n",
      "if len(b) <= 10:\n",
      "    new_b = b[:3]\n",
      "else:\n",
      "    new_b = b[:7]\n",
      "    \n",
      "# Determine the sum of new_b\n",
      "sum_new_b = sum(new_b)\n",
      "print \"The sum of new_b is\", sum_new_b\n",
      "\n",
      "# Determine if sum_new_b is even or odd\n",
      "if sum_new_b % 2 == 0:\n",
      "    print \"The sum is even.\"\n",
      "else:\n",
      "    print \"The sum is odd.\""
     ],
     "language": "python",
     "metadata": {},
     "outputs": [
      {
       "output_type": "stream",
       "stream": "stdout",
       "text": [
        "The sum of new_b is 24\n",
        "The sum is even.\n"
       ]
      }
     ],
     "prompt_number": 23
    },
    {
     "cell_type": "markdown",
     "metadata": {},
     "source": [
      "<br><br>\n",
      "## For loops"
     ]
    },
    {
     "cell_type": "markdown",
     "metadata": {},
     "source": [
      "**Question 1.**\n",
      "\n",
      "a) Write a for loop that iterates over the numbers 0-10 (including 10!). On each iteration, print 2 raised to that iteration count. For example, when the loop variable equals 3, your code should print 8. \n",
      "\n",
      "b) Modify your code from part (a) to save each of those power-of-2 values to a list called `powers` (hint: use the `.append()` method). Print the final `powers` list."
     ]
    },
    {
     "cell_type": "code",
     "collapsed": false,
     "input": [
      "# Print the powers of 2\n",
      "for i in range(11):\n",
      "    print 2**(i)\n"
     ],
     "language": "python",
     "metadata": {},
     "outputs": [
      {
       "output_type": "stream",
       "stream": "stdout",
       "text": [
        "1\n",
        "2\n",
        "4\n",
        "8\n",
        "16\n",
        "32\n",
        "64\n",
        "128\n",
        "256\n",
        "512\n",
        "1024\n"
       ]
      }
     ],
     "prompt_number": 24
    },
    {
     "cell_type": "code",
     "collapsed": false,
     "input": [
      "# Save powers to a list\n",
      "powers = []\n",
      "for i in range(11):\n",
      "    powers.append( 2**i )\n",
      "print powers"
     ],
     "language": "python",
     "metadata": {},
     "outputs": [
      {
       "output_type": "stream",
       "stream": "stdout",
       "text": [
        "[1, 2, 4, 8, 16, 32, 64, 128, 256, 512, 1024]\n"
       ]
      }
     ],
     "prompt_number": 25
    },
    {
     "cell_type": "markdown",
     "metadata": {},
     "source": [
      "<br>\n",
      "**Question 2.**\n",
      "\n",
      "Loop over the dictionary `d`, defined below. For each key, determine if it contains the letter \"o\". If this condition is true, print the *value* from `d` associated with that key. Otherwise, print the statement \"Sorry, no o in the key XXX\" where XXX is the name of the key.\n"
     ]
    },
    {
     "cell_type": "code",
     "collapsed": false,
     "input": [
      "d = {\"frog\":\"amphibian\", \"crocodile\":\"reptile\", \"osprey\":\"bird\", \"platypus\":\"mammal\", \"squid\":\"mollusk\", \"spider\":\"arachnid\", \"jellyfish\":\"cnidarian\", \"clownfish\":\"fish\"}\n",
      "\n",
      "for item in d:\n",
      "    if \"o\" in item:\n",
      "        print d[item]\n",
      "    else:\n",
      "        print \"Sorry, no o in the key\", item\n"
     ],
     "language": "python",
     "metadata": {},
     "outputs": [
      {
       "output_type": "stream",
       "stream": "stdout",
       "text": [
        "reptile\n",
        "fish\n",
        "Sorry, no o in the key platypus\n",
        "Sorry, no o in the key squid\n",
        "bird\n",
        "Sorry, no o in the key spider\n",
        "amphibian\n",
        "Sorry, no o in the key jellyfish\n"
       ]
      }
     ],
     "prompt_number": 26
    },
    {
     "cell_type": "markdown",
     "metadata": {},
     "source": [
      "<br>\n",
      "**Question 3.**\n",
      "\n",
      "a) Two variables are defined in the first question 3 code chunk below: the string `protseq`, which contains a sequence of amino acids, and the dictionary `amino_weights`, which gives the molecular weight for each amino acid. Write a for loop to determine the total molecular weight of `protseq`. Print the total weight.\n",
      "\n",
      "b) A variable called `protseq_ambig` is defined in the second question 3 code chunk. Unlike the first `protseq` variable, this amino acid sequence contains ambiguous amino-acid characters, including X, B, and Z, which are *not* in the amino_weights dictionary. Determine and print the molecular weight of this sequence."
     ]
    },
    {
     "cell_type": "code",
     "collapsed": false,
     "input": [
      "protseq = \"RTAHHCPLKLLAWS\"\n",
      "amino_weights = {'A':89.09,'R':174.20,'N':132.12,'D':133.10,'C':121.15,'Q':146.15,'E':147.13,'G':75.07,'H':155.16,'I':131.17,'L':131.17,'K':146.19,'M':149.21,'F':165.19,'P':115.13,'S':105.09,'T':119.12,'W':204.23,'Y':181.19,'V':117.15}\n",
      "\n",
      "weight = 0.\n",
      "for aa in protseq:\n",
      "    weight += amino_weights[aa]\n",
      "print weight"
     ],
     "language": "python",
     "metadata": {},
     "outputs": [
      {
       "output_type": "stream",
       "stream": "stdout",
       "text": [
        "1867.12\n"
       ]
      }
     ],
     "prompt_number": 27
    },
    {
     "cell_type": "code",
     "collapsed": false,
     "input": [
      "protseq_ambig = \"TAGHHABAAXARBYEDEEZKMBPXQ\"\n",
      "\n",
      "weight = 0.\n",
      "for aa in protseq_ambig:\n",
      "    if aa in amino_weights:\n",
      "        weight += amino_weights[aa]\n",
      "print weight"
     ],
     "language": "python",
     "metadata": {},
     "outputs": [
      {
       "output_type": "stream",
       "stream": "stdout",
       "text": [
        "2436.52\n"
       ]
      }
     ],
     "prompt_number": 28
    }
   ],
   "metadata": {}
  }
 ]
}