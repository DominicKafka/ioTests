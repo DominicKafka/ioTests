{
 "metadata": {
  "name": "",
  "signature": "sha256:decde901da8bd174c52767c4abeae101b470a5e7ce0c6dbef99b3ae6919d89e8"
 },
 "nbformat": 3,
 "nbformat_minor": 0,
 "worksheets": [
  {
   "cells": [
    {
     "cell_type": "markdown",
     "metadata": {},
     "source": [
      "# Class 18: Functions\n",
      "<br><br>"
     ]
    },
    {
     "cell_type": "markdown",
     "metadata": {},
     "source": [
      "**Question 1.**\n",
      "\n",
      "a) Write a function called `calc_mol_weight` to calculate the molecular weight of an amino acid sequence. Your function should take a single argument, an amino acid sequence, and return a single value, the sequence's weight. In your function, use the `amino_weights` dictionary given below. \n",
      "\n",
      "b) Test that your function behaves properly with the two `protseq` variables defined below. The known molecular weights for each `protseq` variable are shown in the comments. Write code (hint: if/else statements!) to determine if the function works correctly. If it doesn't work correctly, figure out why and rewrite the function until it works!\n"
     ]
    },
    {
     "cell_type": "code",
     "collapsed": false,
     "input": [
      "# Function definition goes here (uncomment below)\n",
      "#def calc_mol_weight(...):\n",
      "#    amino_weights = {'A':89.09,'R':174.20,'N':132.12,'D':133.10,'C':121.15,'Q':146.15,'E':147.13,'G':75.07,'H':155.16,'I':131.17,'L':131.17,'K':146.19,'M':149.21,'F':165.19,'P':115.13,'S':105.09,'T':119.12,'W':204.23,'Y':181.19,'V':117.15}\n",
      "#    # code\n",
      "#    return weight\n",
      "\n",
      "protseq1 = \"AGAHHCTPL\" # weight = 1050.14\n",
      "protseq2 = \"HQWRSSXAD\" # weight = 1112.11\n",
      "# Run the function on protseq1 and protseq2. Use if/else to print out whether your function gave the right answer.\n",
      "\n"
     ],
     "language": "python",
     "metadata": {},
     "outputs": [],
     "prompt_number": 5
    },
    {
     "cell_type": "markdown",
     "metadata": {},
     "source": [
      "<br>\n",
      "**Question 2.** \n",
      "  \n",
      " Write a function to convert between celsius and fahrenheit. The formulas are as follows:\n",
      " \n",
      " + `C = (F - 32) * 5/9`\n",
      " + `F = 9/5 + 32`\n",
      " \n",
      "Your function should take two arguments: the value to convert, and whether or not it should convert to celsius or fahrenheit. Your function should return a single variable, the new converted temperature. Once you have written your function, make sure than an input of 0 C returns 32 F, and vice versa. Additionally confirm that a value of 212 F returns 100 C, and vice versa."
     ]
    },
    {
     "cell_type": "code",
     "collapsed": false,
     "input": [
      "# Code for question 2 goes here."
     ],
     "language": "python",
     "metadata": {},
     "outputs": [],
     "prompt_number": 7
    }
   ],
   "metadata": {}
  }
 ]
}