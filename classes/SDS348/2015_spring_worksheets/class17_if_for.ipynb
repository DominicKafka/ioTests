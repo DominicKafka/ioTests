{
 "metadata": {
  "name": "",
  "signature": "sha256:14e5dbb8ab7608abc1f74c9a9c13d77891a5ea6a1faa8bf9e5db5000c7f43a62"
 },
 "nbformat": 3,
 "nbformat_minor": 0,
 "worksheets": [
  {
   "cells": [
    {
     "cell_type": "markdown",
     "metadata": {},
     "source": [
      "# Class 17: Python control flow\n",
      "<br><br>"
     ]
    },
    {
     "cell_type": "markdown",
     "metadata": {},
     "source": [
      "## If statements"
     ]
    },
    {
     "cell_type": "markdown",
     "metadata": {},
     "source": [
      "**Question 1.**\n",
      "Write an if/elif.../else construct to determine the type of the variable `a`, defined below. Your code should evaluate if the variable is an integer, float, string, or list, and print a sentence stating the variable type."
     ]
    },
    {
     "cell_type": "code",
     "collapsed": false,
     "input": [
      "a = 89.44\n",
      "\n",
      "# Code for question 1 goes here."
     ],
     "language": "python",
     "metadata": {},
     "outputs": [],
     "prompt_number": 30
    },
    {
     "cell_type": "markdown",
     "metadata": {},
     "source": [
      "<br>\n",
      "**Question 2.** \n",
      "  \n",
      "  a) Define a numeric variable (either float or integer is ok). Use an *if/else* statement to determine if the number is greater than zero. Your code should print a sentence indicating if the number is greater than zero or not.\n",
      "  \n",
      "  b) Modify your if/else statement to write an *if/elif/else* statement to determine if the number is greater than, less than, or equal to zero. Again, print a sentence indicating the number's value relative to 0."
     ]
    },
    {
     "cell_type": "code",
     "collapsed": false,
     "input": [
      "# Code for question 2 goes here."
     ],
     "language": "python",
     "metadata": {},
     "outputs": [],
     "prompt_number": 31
    },
    {
     "cell_type": "markdown",
     "metadata": {},
     "source": [
      "<br>\n",
      "**Question 3.**\n",
      "\n",
      "  a) Write an if/else statement to determine if the length of the list `b`, defined below, is less than or equal to 10. If this condition is *true*, use indexing to create a new list containing the first three numbers in the list, and print their mean. If this condition is *false*, use indexing to create a new list containing the first 7 numbers in the list, and print their mean. \n",
      "  \n",
      "  b) Finally, use an if/else statement to determine if the sum is even or odd, and print a statement which says, \"The average of the first X numbers in the list is Y\", where X and Y have been replaced with their proper values. (Hint: use the modulus operator `%` to test even vs. odd!)"
     ]
    },
    {
     "cell_type": "code",
     "collapsed": false,
     "input": [
      "b = [10, 2, 6, 88, 56, 57, 11, 19, 9, 95]\n",
      "\n",
      "# Code for question 3 goes here."
     ],
     "language": "python",
     "metadata": {},
     "outputs": [],
     "prompt_number": 32
    },
    {
     "cell_type": "markdown",
     "metadata": {},
     "source": [
      "<br><br>\n",
      "## For loops"
     ]
    },
    {
     "cell_type": "markdown",
     "metadata": {},
     "source": [
      "**Question 1.**\n",
      "\n",
      "a) Write a for loop that prints, on each iteration, 2 raised to that iteration count. For example, on iteration 3, your code should print the number 8. \n",
      "\n",
      "b) Modify your code from part (a) to save each of those power-of-2 values to a list called `powers`. Use the `.append()` method as part of your for loop. Print the final `powers` list."
     ]
    },
    {
     "cell_type": "code",
     "collapsed": false,
     "input": [
      "# Code for question 1 goes here."
     ],
     "language": "python",
     "metadata": {},
     "outputs": [],
     "prompt_number": 33
    },
    {
     "cell_type": "markdown",
     "metadata": {},
     "source": [
      "<br>\n",
      "**Question 2.**\n",
      "\n",
      "Loop over the dictionary `d`, defined below. For each key, determine if it contains the letter \"o\". If this condition is true, print the *value* from `d` associated with that key. Otherwise, print the statement \"Sorry, no o in the key XXX\" where XXX is the name of the key.\n"
     ]
    },
    {
     "cell_type": "code",
     "collapsed": false,
     "input": [
      "d = {\"frog\":\"amphibian\", \"crocodile\":\"reptile\", \"osprey\":\"bird\", \"platypus\":\"mammal\", \"squid\":\"mollusk\", \"spider\":\"arachnid\", \"jellyfish\":\"cnidarian\", \"clownfish\":\"fish\"}"
     ],
     "language": "python",
     "metadata": {},
     "outputs": [],
     "prompt_number": 34
    },
    {
     "cell_type": "markdown",
     "metadata": {},
     "source": [
      "<br>\n",
      "**Question 3.**\n",
      "\n",
      "a) Two variables are defined in the first question 3 code chunk below: the string `protseq`, which contains a sequence of amino acids, and the dictionary `amino_weights`, which gives the molecular weight for each amino acid. Write a for loop to determine the total molecular weight of `protseq`.\n",
      "\n",
      "b) A variable called `protseq_ambig` is defined in the second question 3 code chunk. Unlike the first `protseq` variable, this amino acid sequence contains ambiguous amino-acid characters, including X, B, and Z. Determine the molecular weight of this sequence (hint: you will have to incorporate an if/else construct into your for loop!)."
     ]
    },
    {
     "cell_type": "code",
     "collapsed": false,
     "input": [
      "protseq = \"RTAHHGAYAGCPLKLLAWS\"\n",
      "amino_weights = {'A':89.09,'R':174.20,'N':132.12,'D':133.10,'C':121.15,'Q':146.15,'E':147.13,'G':75.07,'H':155.16,'I':131.17,'L':131.17,'K':146.19,'M':149.21,'F':165.19,'P':115.13,'S':105.09,'T':119.12,'W':204.23,'Y':181.19,'V':117.15}\n",
      "\n",
      "# Code for question 3a goes here"
     ],
     "language": "python",
     "metadata": {},
     "outputs": [],
     "prompt_number": 35
    },
    {
     "cell_type": "code",
     "collapsed": false,
     "input": [
      "protseq_ambig = \"TAGHHABAAXARBYEDEEZKMBPXQ\"\n",
      "\n",
      "# Code for question 3b goes here"
     ],
     "language": "python",
     "metadata": {},
     "outputs": [],
     "prompt_number": 36
    }
   ],
   "metadata": {}
  }
 ]
}