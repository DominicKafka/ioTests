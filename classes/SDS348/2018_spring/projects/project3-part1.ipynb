{
 "cells": [
  {
   "cell_type": "markdown",
   "metadata": {},
   "source": [
    "# Project 3, Part I"
   ]
  },
  {
   "cell_type": "markdown",
   "metadata": {},
   "source": [
    "*Enter your name and EID here*\n",
    "\n",
    "**This Project is due on May 3rd, 2018 at 7:00pm.**\n",
    "\n",
    "The complete submission will consist of four parts:\n",
    "\n",
    "1. Jupyter Notebook (.ipynb) file\n",
    "2. Jupyter Notebook converted to pdf\n",
    "3. R Markdown (.Rmd) file\n",
    "4. R Markdown converted to pdf\n",
    "\n",
    "Before submitting the Jupyter notebook part, please re-run all cells by clicking \"Kernel\" and selecting \"Restart & Run All.\"\n"
   ]
  },
  {
   "cell_type": "markdown",
   "metadata": {},
   "source": [
    "## Background and motivation\n",
    "\n",
    "*Please write 1 paragraph providing background and motivation for your question. (4-6 sentences)*"
   ]
  },
  {
   "cell_type": "markdown",
   "metadata": {},
   "source": [
    "## Question\n",
    "\n",
    "*Please provide your overarching, **conceptual** question here.*"
   ]
  },
  {
   "cell_type": "markdown",
   "metadata": {},
   "source": [
    "## Introduction\n",
    "\n",
    "*Please write 1 paragraph explaining the data source and variables you will use to answer the question. (4-8 sentences)*"
   ]
  },
  {
   "cell_type": "markdown",
   "metadata": {},
   "source": [
    "## Data acquisition code"
   ]
  },
  {
   "cell_type": "code",
   "execution_count": 1,
   "metadata": {
    "collapsed": false,
    "scrolled": true
   },
   "outputs": [],
   "source": [
    "# Your code goes here.\n",
    "\n",
    "# Download data from NCBI Entrez, process as necessary, and write into a .csv file."
   ]
  }
 ],
 "metadata": {
  "kernelspec": {
   "display_name": "Python 3",
   "language": "python",
   "name": "python3"
  },
  "language_info": {
   "codemirror_mode": {
    "name": "ipython",
    "version": 3
   },
   "file_extension": ".py",
   "mimetype": "text/x-python",
   "name": "python",
   "nbconvert_exporter": "python",
   "pygments_lexer": "ipython3",
   "version": "3.6.4"
  }
 },
 "nbformat": 4,
 "nbformat_minor": 2
}
