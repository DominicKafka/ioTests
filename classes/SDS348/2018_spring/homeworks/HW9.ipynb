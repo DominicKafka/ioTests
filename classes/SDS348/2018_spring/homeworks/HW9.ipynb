{
 "cells": [
  {
   "cell_type": "markdown",
   "metadata": {},
   "source": [
    "# Homework 9"
   ]
  },
  {
   "cell_type": "markdown",
   "metadata": {},
   "source": [
    "*Enter your name and EID here*\n",
    "\n",
    "**This homework is due on April 10, 2018 at 7:00pm. Please submit as a PDF file on Canvas. Before submission, please re-run all cells by clicking \"Kernel\" and selecting \"Restart & Run All.\"**\n"
   ]
  },
  {
   "cell_type": "markdown",
   "metadata": {},
   "source": [
    "**Problem 1 (2 points):** Using Biopython and the Pubmed database, calculate the average number of papers that Dr. Wilke has published from 2013-2017 (inclusive, so that's 5 years total). \n",
    "\n",
    "**Hints**: Dr. Wilke will always appear as \"Wilke CO\" in the Pubmed database. Also, make sure to set the `retmax` argument to at least `60` in `Entrez.esearch()` so that you retrieve all of the papers. "
   ]
  },
  {
   "cell_type": "code",
   "execution_count": 1,
   "metadata": {
    "collapsed": false,
    "scrolled": true
   },
   "outputs": [],
   "source": [
    "# You will need Entrez and Medline to solve this problem\n",
    "from Bio import Entrez, Medline\n",
    "\n",
    "Entrez.email = \"your email goes here\"\n",
    "\n",
    "# Your code goes here"
   ]
  },
  {
   "cell_type": "markdown",
   "metadata": {
    "collapsed": false
   },
   "source": [
    "**Problem 2 (4 points):** From the years 2013-2017 (inclusive), in which journals did Dr. Wilke's papers appear and how many times in each journal did his papers appear? Print out each journal and the number of times a paper appeared in that journal. Make sure you don't print the same journal name twice.\n",
    "\n",
    "**Hint**: In class 21, we parsed the results of a literature search with `Medline.parse()`. This allows us to look at the references we found and to retrieve different parts of the reference with a key. For example, to retrieve the abstract, we would write `record['AB']`. You can find a list of possible keys [here](https://www.nlm.nih.gov/bsd/mms/medlineelements.html)."
   ]
  },
  {
   "cell_type": "code",
   "execution_count": 2,
   "metadata": {
    "collapsed": false
   },
   "outputs": [],
   "source": [
    "# Your code goes here"
   ]
  },
  {
   "cell_type": "markdown",
   "metadata": {},
   "source": [
    "**Problem 3 (4 points):** From 2013-2017 (inclusive), how many of Dr. Wilke's papers contain the terms \"virus\" or \"viral\" in the title? Use python and **regular expressions** to find an answer.\n",
    "\n",
    "**Hint:** In a regular expression, you can match the same word with slightly different endings using the \"`|`\" (or) operator. For example, the regex \"bacteri(a|um)\" would match both \"bacteria\" and \"bacterium\"."
   ]
  },
  {
   "cell_type": "code",
   "execution_count": 3,
   "metadata": {
    "collapsed": false
   },
   "outputs": [],
   "source": [
    "# You'll need the module re for regular expressions\n",
    "import re\n",
    "\n",
    "# Your code goes here"
   ]
  }
 ],
 "metadata": {
  "kernelspec": {
   "display_name": "Python 3",
   "language": "python",
   "name": "python3"
  },
  "language_info": {
   "codemirror_mode": {
    "name": "ipython",
    "version": 3
   },
   "file_extension": ".py",
   "mimetype": "text/x-python",
   "name": "python",
   "nbconvert_exporter": "python",
   "pygments_lexer": "ipython3",
   "version": "3.6.0"
  }
 },
 "nbformat": 4,
 "nbformat_minor": 0
}
